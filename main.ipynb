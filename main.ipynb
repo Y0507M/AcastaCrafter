{
 "cells": [
  {
   "cell_type": "code",
   "execution_count": null,
   "metadata": {},
   "outputs": [
    {
     "name": "stdout",
     "output_type": "stream",
     "text": [
      "['reward', 'action$forward', 'action$left', 'action$back', 'action$right', 'action$jump', 'action$sneak', 'action$sprint', 'action$attack', 'action$camera']\n"
     ]
    }
   ],
   "source": [
    "import numpy as np\n",
    "\n",
    "data = np.load(\"data/MineRLTreechop-v0/v3_absolute_grape_changeling-7_14600-16079/rendered.npz\")\n",
    "print(data.files)  # Lists the keys stored in the npz file"
   ]
  },
  {
   "cell_type": "code",
   "execution_count": 13,
   "metadata": {},
   "outputs": [
    {
     "data": {
      "text/plain": [
       "array([[-6.000001  , -2.4000015 ],\n",
       "       [-4.199999  , -0.9000015 ],\n",
       "       [-4.3500004 , -1.199997  ],\n",
       "       ...,\n",
       "       [ 2.7000008 ,  0.59999084],\n",
       "       [ 3.75      ,  0.6000061 ],\n",
       "       [ 2.8500004 ,  0.1499939 ]], dtype=float32)"
      ]
     },
     "execution_count": 13,
     "metadata": {},
     "output_type": "execute_result"
    }
   ],
   "source": [
    "data[\"action$camera\"]"
   ]
  }
 ],
 "metadata": {
  "kernelspec": {
   "display_name": "Python 3",
   "language": "python",
   "name": "python3"
  },
  "language_info": {
   "codemirror_mode": {
    "name": "ipython",
    "version": 3
   },
   "file_extension": ".py",
   "mimetype": "text/x-python",
   "name": "python",
   "nbconvert_exporter": "python",
   "pygments_lexer": "ipython3",
   "version": "3.9.21"
  }
 },
 "nbformat": 4,
 "nbformat_minor": 2
}
